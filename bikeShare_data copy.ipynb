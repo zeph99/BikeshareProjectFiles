{
 "cells": [
  {
   "cell_type": "code",
   "execution_count": 21,
   "id": "2e158ddc-0c06-44ae-b936-ca81d4447f6f",
   "metadata": {},
   "outputs": [],
   "source": [
    "import requests\n",
    "import pandas as pd\n",
    "from bs4 import BeautifulSoup"
   ]
  },
  {
   "cell_type": "code",
   "execution_count": 22,
   "id": "06d5347d-d843-4fa5-a281-a0b67b0388cf",
   "metadata": {},
   "outputs": [],
   "source": [
    "import glob\n",
    "import matplotlib.pyplot as plt"
   ]
  },
  {
   "cell_type": "code",
   "execution_count": 23,
   "id": "a7ed3cb3-30fe-4ad3-a273-8e0e6a87d33e",
   "metadata": {},
   "outputs": [
    {
     "data": {
      "text/plain": [
       "True"
      ]
     },
     "execution_count": 23,
     "metadata": {},
     "output_type": "execute_result"
    }
   ],
   "source": [
    "import os\n",
    "os.path.isfile('2024jan.csv')\n"
   ]
  },
  {
   "cell_type": "code",
   "execution_count": 24,
   "id": "5b8bfb4f-19e6-4d14-b204-0e9a43f3e6c1",
   "metadata": {},
   "outputs": [
    {
     "name": "stdout",
     "output_type": "stream",
     "text": [
      "/Users/emmelinewilley/Desktop/LEDE Project data/data\n"
     ]
    }
   ],
   "source": [
    "path = os.getcwd()\n",
    "\n",
    "print(path)\n"
   ]
  },
  {
   "cell_type": "code",
   "execution_count": 25,
   "id": "88b851c9-8d16-49b4-b504-efa4a7179cc9",
   "metadata": {},
   "outputs": [],
   "source": [
    "os.chdir('/Users/emmelinewilley/Desktop/LEDE Project data/data/')"
   ]
  },
  {
   "cell_type": "code",
   "execution_count": 26,
   "id": "c86993cc-f6a9-462c-95ec-d092c7a3455b",
   "metadata": {},
   "outputs": [],
   "source": [
    "df = pd.concat(map(pd.read_csv, ['2024jan.csv', '2024feb.csv','2024march.csv','2024april.csv','2024may.csv','2024june.csv']))"
   ]
  },
  {
   "cell_type": "code",
   "execution_count": 27,
   "id": "ea80fb5b-b696-4dcd-a0aa-5471ff8403f2",
   "metadata": {},
   "outputs": [
    {
     "data": {
      "text/html": [
       "<div>\n",
       "<style scoped>\n",
       "    .dataframe tbody tr th:only-of-type {\n",
       "        vertical-align: middle;\n",
       "    }\n",
       "\n",
       "    .dataframe tbody tr th {\n",
       "        vertical-align: top;\n",
       "    }\n",
       "\n",
       "    .dataframe thead th {\n",
       "        text-align: right;\n",
       "    }\n",
       "</style>\n",
       "<table border=\"1\" class=\"dataframe\">\n",
       "  <thead>\n",
       "    <tr style=\"text-align: right;\">\n",
       "      <th></th>\n",
       "      <th>ride_id</th>\n",
       "      <th>rideable_type</th>\n",
       "      <th>started_at</th>\n",
       "      <th>ended_at</th>\n",
       "      <th>start_station_name</th>\n",
       "      <th>start_station_id</th>\n",
       "      <th>end_station_name</th>\n",
       "      <th>end_station_id</th>\n",
       "      <th>start_lat</th>\n",
       "      <th>start_lng</th>\n",
       "      <th>end_lat</th>\n",
       "      <th>end_lng</th>\n",
       "      <th>member_casual</th>\n",
       "    </tr>\n",
       "  </thead>\n",
       "  <tbody>\n",
       "    <tr>\n",
       "      <th>0</th>\n",
       "      <td>748A93D7DE8A41CD</td>\n",
       "      <td>classic_bike</td>\n",
       "      <td>2024-01-25 15:49:59</td>\n",
       "      <td>2024-01-25 15:52:35</td>\n",
       "      <td>1st &amp; O St NW</td>\n",
       "      <td>31519.0</td>\n",
       "      <td>1st &amp; L St NW</td>\n",
       "      <td>31677.0</td>\n",
       "      <td>38.908643</td>\n",
       "      <td>-77.012365</td>\n",
       "      <td>38.903819</td>\n",
       "      <td>-77.011987</td>\n",
       "      <td>member</td>\n",
       "    </tr>\n",
       "    <tr>\n",
       "      <th>1</th>\n",
       "      <td>75CBFD136F06305B</td>\n",
       "      <td>classic_bike</td>\n",
       "      <td>2024-01-02 16:44:58</td>\n",
       "      <td>2024-01-02 16:53:25</td>\n",
       "      <td>1st &amp; O St NW</td>\n",
       "      <td>31519.0</td>\n",
       "      <td>4th &amp; College St NW</td>\n",
       "      <td>31138.0</td>\n",
       "      <td>38.908643</td>\n",
       "      <td>-77.012365</td>\n",
       "      <td>38.921233</td>\n",
       "      <td>-77.018135</td>\n",
       "      <td>member</td>\n",
       "    </tr>\n",
       "    <tr>\n",
       "      <th>2</th>\n",
       "      <td>0536C9720F87E04C</td>\n",
       "      <td>classic_bike</td>\n",
       "      <td>2024-01-24 15:40:15</td>\n",
       "      <td>2024-01-24 15:43:55</td>\n",
       "      <td>1st &amp; O St NW</td>\n",
       "      <td>31519.0</td>\n",
       "      <td>1st &amp; L St NW</td>\n",
       "      <td>31677.0</td>\n",
       "      <td>38.908643</td>\n",
       "      <td>-77.012365</td>\n",
       "      <td>38.903819</td>\n",
       "      <td>-77.011987</td>\n",
       "      <td>member</td>\n",
       "    </tr>\n",
       "    <tr>\n",
       "      <th>3</th>\n",
       "      <td>9E17390C218783B5</td>\n",
       "      <td>classic_bike</td>\n",
       "      <td>2024-01-04 15:35:00</td>\n",
       "      <td>2024-01-04 15:37:35</td>\n",
       "      <td>1st &amp; O St NW</td>\n",
       "      <td>31519.0</td>\n",
       "      <td>1st &amp; L St NW</td>\n",
       "      <td>31677.0</td>\n",
       "      <td>38.908643</td>\n",
       "      <td>-77.012365</td>\n",
       "      <td>38.903819</td>\n",
       "      <td>-77.011987</td>\n",
       "      <td>member</td>\n",
       "    </tr>\n",
       "    <tr>\n",
       "      <th>4</th>\n",
       "      <td>00727D0E773CDFF7</td>\n",
       "      <td>electric_bike</td>\n",
       "      <td>2024-01-05 12:27:58</td>\n",
       "      <td>2024-01-05 12:35:40</td>\n",
       "      <td>1st &amp; O St NW</td>\n",
       "      <td>31519.0</td>\n",
       "      <td>10th &amp; G St NW</td>\n",
       "      <td>31274.0</td>\n",
       "      <td>38.908690</td>\n",
       "      <td>-77.012317</td>\n",
       "      <td>38.898243</td>\n",
       "      <td>-77.026235</td>\n",
       "      <td>casual</td>\n",
       "    </tr>\n",
       "  </tbody>\n",
       "</table>\n",
       "</div>"
      ],
      "text/plain": [
       "            ride_id  rideable_type           started_at             ended_at  \\\n",
       "0  748A93D7DE8A41CD   classic_bike  2024-01-25 15:49:59  2024-01-25 15:52:35   \n",
       "1  75CBFD136F06305B   classic_bike  2024-01-02 16:44:58  2024-01-02 16:53:25   \n",
       "2  0536C9720F87E04C   classic_bike  2024-01-24 15:40:15  2024-01-24 15:43:55   \n",
       "3  9E17390C218783B5   classic_bike  2024-01-04 15:35:00  2024-01-04 15:37:35   \n",
       "4  00727D0E773CDFF7  electric_bike  2024-01-05 12:27:58  2024-01-05 12:35:40   \n",
       "\n",
       "  start_station_name  start_station_id     end_station_name  end_station_id  \\\n",
       "0      1st & O St NW           31519.0        1st & L St NW         31677.0   \n",
       "1      1st & O St NW           31519.0  4th & College St NW         31138.0   \n",
       "2      1st & O St NW           31519.0        1st & L St NW         31677.0   \n",
       "3      1st & O St NW           31519.0        1st & L St NW         31677.0   \n",
       "4      1st & O St NW           31519.0       10th & G St NW         31274.0   \n",
       "\n",
       "   start_lat  start_lng    end_lat    end_lng member_casual  \n",
       "0  38.908643 -77.012365  38.903819 -77.011987        member  \n",
       "1  38.908643 -77.012365  38.921233 -77.018135        member  \n",
       "2  38.908643 -77.012365  38.903819 -77.011987        member  \n",
       "3  38.908643 -77.012365  38.903819 -77.011987        member  \n",
       "4  38.908690 -77.012317  38.898243 -77.026235        casual  "
      ]
     },
     "execution_count": 27,
     "metadata": {},
     "output_type": "execute_result"
    }
   ],
   "source": [
    "df.head()"
   ]
  },
  {
   "cell_type": "code",
   "execution_count": 28,
   "id": "b5194b7f-1e7f-45ab-ba52-da5d9ee69b9d",
   "metadata": {},
   "outputs": [
    {
     "data": {
      "text/plain": [
       "(2584529, 13)"
      ]
     },
     "execution_count": 28,
     "metadata": {},
     "output_type": "execute_result"
    }
   ],
   "source": [
    "df.shape"
   ]
  },
  {
   "cell_type": "code",
   "execution_count": 29,
   "id": "15eb91dd-7e79-4261-88db-410ee9559ebc",
   "metadata": {},
   "outputs": [
    {
     "data": {
      "text/plain": [
       "<bound method NDFrame.describe of 0             2024-01-25 15:49:59\n",
       "1             2024-01-02 16:44:58\n",
       "2             2024-01-24 15:40:15\n",
       "3             2024-01-04 15:35:00\n",
       "4             2024-01-05 12:27:58\n",
       "                   ...           \n",
       "584397    2024-06-27 13:23:03.806\n",
       "584398    2024-06-21 11:34:25.669\n",
       "584399    2024-06-30 20:34:54.323\n",
       "584400    2024-06-28 08:55:14.968\n",
       "584401    2024-06-21 11:25:56.790\n",
       "Name: started_at, Length: 2584529, dtype: object>"
      ]
     },
     "execution_count": 29,
     "metadata": {},
     "output_type": "execute_result"
    }
   ],
   "source": [
    "df['started_at'].describe"
   ]
  },
  {
   "cell_type": "code",
   "execution_count": 30,
   "id": "912a6f53-2311-451d-b0c7-b1a3061bb4f5",
   "metadata": {},
   "outputs": [],
   "source": [
    "df[['start_date', 'start_time']] = df['started_at'].str.split(' ', n=1, expand=True)"
   ]
  },
  {
   "cell_type": "code",
   "execution_count": 31,
   "id": "96df70d1-b7f0-4287-82c1-2c72ffcdbe54",
   "metadata": {},
   "outputs": [],
   "source": [
    "df = df.drop('started_at', axis=1)"
   ]
  },
  {
   "cell_type": "code",
   "execution_count": 32,
   "id": "b77208dc-8a6e-4018-a553-fd1a194ea7a1",
   "metadata": {},
   "outputs": [
    {
     "data": {
      "text/plain": [
       "0    2024-01-25\n",
       "1    2024-01-02\n",
       "2    2024-01-24\n",
       "3    2024-01-04\n",
       "4    2024-01-05\n",
       "Name: start_date, dtype: object"
      ]
     },
     "execution_count": 32,
     "metadata": {},
     "output_type": "execute_result"
    }
   ],
   "source": [
    "df['start_date'].head()\n"
   ]
  },
  {
   "cell_type": "code",
   "execution_count": 33,
   "id": "1867d3a6-61f3-49c0-a648-4f296b8cd261",
   "metadata": {},
   "outputs": [],
   "source": [
    "df[['end_date', 'end_time']] = df['ended_at'].str.split(' ', n=1, expand=True)"
   ]
  },
  {
   "cell_type": "code",
   "execution_count": 34,
   "id": "80cdb35b-a144-4022-a05c-f3006b716afd",
   "metadata": {},
   "outputs": [],
   "source": [
    "df = df.drop('ended_at', axis=1)"
   ]
  },
  {
   "cell_type": "code",
   "execution_count": 35,
   "id": "beefa496-4b84-4138-9918-aaa2a347358c",
   "metadata": {},
   "outputs": [
    {
     "data": {
      "text/html": [
       "<div>\n",
       "<style scoped>\n",
       "    .dataframe tbody tr th:only-of-type {\n",
       "        vertical-align: middle;\n",
       "    }\n",
       "\n",
       "    .dataframe tbody tr th {\n",
       "        vertical-align: top;\n",
       "    }\n",
       "\n",
       "    .dataframe thead th {\n",
       "        text-align: right;\n",
       "    }\n",
       "</style>\n",
       "<table border=\"1\" class=\"dataframe\">\n",
       "  <thead>\n",
       "    <tr style=\"text-align: right;\">\n",
       "      <th></th>\n",
       "      <th>ride_id</th>\n",
       "      <th>rideable_type</th>\n",
       "      <th>start_station_name</th>\n",
       "      <th>start_station_id</th>\n",
       "      <th>end_station_name</th>\n",
       "      <th>end_station_id</th>\n",
       "      <th>start_lat</th>\n",
       "      <th>start_lng</th>\n",
       "      <th>end_lat</th>\n",
       "      <th>end_lng</th>\n",
       "      <th>member_casual</th>\n",
       "      <th>start_date</th>\n",
       "      <th>start_time</th>\n",
       "      <th>end_date</th>\n",
       "      <th>end_time</th>\n",
       "    </tr>\n",
       "  </thead>\n",
       "  <tbody>\n",
       "    <tr>\n",
       "      <th>0</th>\n",
       "      <td>748A93D7DE8A41CD</td>\n",
       "      <td>classic_bike</td>\n",
       "      <td>1st &amp; O St NW</td>\n",
       "      <td>31519.0</td>\n",
       "      <td>1st &amp; L St NW</td>\n",
       "      <td>31677.0</td>\n",
       "      <td>38.908643</td>\n",
       "      <td>-77.012365</td>\n",
       "      <td>38.903819</td>\n",
       "      <td>-77.011987</td>\n",
       "      <td>member</td>\n",
       "      <td>2024-01-25</td>\n",
       "      <td>15:49:59</td>\n",
       "      <td>2024-01-25</td>\n",
       "      <td>15:52:35</td>\n",
       "    </tr>\n",
       "    <tr>\n",
       "      <th>1</th>\n",
       "      <td>75CBFD136F06305B</td>\n",
       "      <td>classic_bike</td>\n",
       "      <td>1st &amp; O St NW</td>\n",
       "      <td>31519.0</td>\n",
       "      <td>4th &amp; College St NW</td>\n",
       "      <td>31138.0</td>\n",
       "      <td>38.908643</td>\n",
       "      <td>-77.012365</td>\n",
       "      <td>38.921233</td>\n",
       "      <td>-77.018135</td>\n",
       "      <td>member</td>\n",
       "      <td>2024-01-02</td>\n",
       "      <td>16:44:58</td>\n",
       "      <td>2024-01-02</td>\n",
       "      <td>16:53:25</td>\n",
       "    </tr>\n",
       "    <tr>\n",
       "      <th>2</th>\n",
       "      <td>0536C9720F87E04C</td>\n",
       "      <td>classic_bike</td>\n",
       "      <td>1st &amp; O St NW</td>\n",
       "      <td>31519.0</td>\n",
       "      <td>1st &amp; L St NW</td>\n",
       "      <td>31677.0</td>\n",
       "      <td>38.908643</td>\n",
       "      <td>-77.012365</td>\n",
       "      <td>38.903819</td>\n",
       "      <td>-77.011987</td>\n",
       "      <td>member</td>\n",
       "      <td>2024-01-24</td>\n",
       "      <td>15:40:15</td>\n",
       "      <td>2024-01-24</td>\n",
       "      <td>15:43:55</td>\n",
       "    </tr>\n",
       "    <tr>\n",
       "      <th>3</th>\n",
       "      <td>9E17390C218783B5</td>\n",
       "      <td>classic_bike</td>\n",
       "      <td>1st &amp; O St NW</td>\n",
       "      <td>31519.0</td>\n",
       "      <td>1st &amp; L St NW</td>\n",
       "      <td>31677.0</td>\n",
       "      <td>38.908643</td>\n",
       "      <td>-77.012365</td>\n",
       "      <td>38.903819</td>\n",
       "      <td>-77.011987</td>\n",
       "      <td>member</td>\n",
       "      <td>2024-01-04</td>\n",
       "      <td>15:35:00</td>\n",
       "      <td>2024-01-04</td>\n",
       "      <td>15:37:35</td>\n",
       "    </tr>\n",
       "    <tr>\n",
       "      <th>4</th>\n",
       "      <td>00727D0E773CDFF7</td>\n",
       "      <td>electric_bike</td>\n",
       "      <td>1st &amp; O St NW</td>\n",
       "      <td>31519.0</td>\n",
       "      <td>10th &amp; G St NW</td>\n",
       "      <td>31274.0</td>\n",
       "      <td>38.908690</td>\n",
       "      <td>-77.012317</td>\n",
       "      <td>38.898243</td>\n",
       "      <td>-77.026235</td>\n",
       "      <td>casual</td>\n",
       "      <td>2024-01-05</td>\n",
       "      <td>12:27:58</td>\n",
       "      <td>2024-01-05</td>\n",
       "      <td>12:35:40</td>\n",
       "    </tr>\n",
       "  </tbody>\n",
       "</table>\n",
       "</div>"
      ],
      "text/plain": [
       "            ride_id  rideable_type start_station_name  start_station_id  \\\n",
       "0  748A93D7DE8A41CD   classic_bike      1st & O St NW           31519.0   \n",
       "1  75CBFD136F06305B   classic_bike      1st & O St NW           31519.0   \n",
       "2  0536C9720F87E04C   classic_bike      1st & O St NW           31519.0   \n",
       "3  9E17390C218783B5   classic_bike      1st & O St NW           31519.0   \n",
       "4  00727D0E773CDFF7  electric_bike      1st & O St NW           31519.0   \n",
       "\n",
       "      end_station_name  end_station_id  start_lat  start_lng    end_lat  \\\n",
       "0        1st & L St NW         31677.0  38.908643 -77.012365  38.903819   \n",
       "1  4th & College St NW         31138.0  38.908643 -77.012365  38.921233   \n",
       "2        1st & L St NW         31677.0  38.908643 -77.012365  38.903819   \n",
       "3        1st & L St NW         31677.0  38.908643 -77.012365  38.903819   \n",
       "4       10th & G St NW         31274.0  38.908690 -77.012317  38.898243   \n",
       "\n",
       "     end_lng member_casual  start_date start_time    end_date  end_time  \n",
       "0 -77.011987        member  2024-01-25   15:49:59  2024-01-25  15:52:35  \n",
       "1 -77.018135        member  2024-01-02   16:44:58  2024-01-02  16:53:25  \n",
       "2 -77.011987        member  2024-01-24   15:40:15  2024-01-24  15:43:55  \n",
       "3 -77.011987        member  2024-01-04   15:35:00  2024-01-04  15:37:35  \n",
       "4 -77.026235        casual  2024-01-05   12:27:58  2024-01-05  12:35:40  "
      ]
     },
     "execution_count": 35,
     "metadata": {},
     "output_type": "execute_result"
    }
   ],
   "source": [
    "df.head()\n"
   ]
  },
  {
   "cell_type": "code",
   "execution_count": 79,
   "id": "9734a7fa-01da-45e2-b488-cfda04449491",
   "metadata": {},
   "outputs": [
    {
     "ename": "AttributeError",
     "evalue": "'DataFrame' object has no attribute 'find'",
     "output_type": "error",
     "traceback": [
      "\u001b[0;31m---------------------------------------------------------------------------\u001b[0m",
      "\u001b[0;31mAttributeError\u001b[0m                            Traceback (most recent call last)",
      "\u001b[0;32m/var/folders/lw/625t8dx921g17s2vx400krzr0000gn/T/ipykernel_27282/3738073043.py\u001b[0m in \u001b[0;36m?\u001b[0;34m()\u001b[0m\n\u001b[0;32m----> 1\u001b[0;31m \u001b[0mdf\u001b[0m\u001b[0;34m.\u001b[0m\u001b[0mfind\u001b[0m\u001b[0;34m(\u001b[0m\u001b[0;36m434961\u001b[0m \u001b[0;34m)\u001b[0m\u001b[0;34m\u001b[0m\u001b[0;34m\u001b[0m\u001b[0m\n\u001b[0m",
      "\u001b[0;32m~/.pyenv/versions/3.11.8/lib/python3.11/site-packages/pandas/core/generic.py\u001b[0m in \u001b[0;36m?\u001b[0;34m(self, name)\u001b[0m\n\u001b[1;32m   6295\u001b[0m             \u001b[0;32mand\u001b[0m \u001b[0mname\u001b[0m \u001b[0;32mnot\u001b[0m \u001b[0;32min\u001b[0m \u001b[0mself\u001b[0m\u001b[0;34m.\u001b[0m\u001b[0m_accessors\u001b[0m\u001b[0;34m\u001b[0m\u001b[0;34m\u001b[0m\u001b[0m\n\u001b[1;32m   6296\u001b[0m             \u001b[0;32mand\u001b[0m \u001b[0mself\u001b[0m\u001b[0;34m.\u001b[0m\u001b[0m_info_axis\u001b[0m\u001b[0;34m.\u001b[0m\u001b[0m_can_hold_identifiers_and_holds_name\u001b[0m\u001b[0;34m(\u001b[0m\u001b[0mname\u001b[0m\u001b[0;34m)\u001b[0m\u001b[0;34m\u001b[0m\u001b[0;34m\u001b[0m\u001b[0m\n\u001b[1;32m   6297\u001b[0m         ):\n\u001b[1;32m   6298\u001b[0m             \u001b[0;32mreturn\u001b[0m \u001b[0mself\u001b[0m\u001b[0;34m[\u001b[0m\u001b[0mname\u001b[0m\u001b[0;34m]\u001b[0m\u001b[0;34m\u001b[0m\u001b[0;34m\u001b[0m\u001b[0m\n\u001b[0;32m-> 6299\u001b[0;31m         \u001b[0;32mreturn\u001b[0m \u001b[0mobject\u001b[0m\u001b[0;34m.\u001b[0m\u001b[0m__getattribute__\u001b[0m\u001b[0;34m(\u001b[0m\u001b[0mself\u001b[0m\u001b[0;34m,\u001b[0m \u001b[0mname\u001b[0m\u001b[0;34m)\u001b[0m\u001b[0;34m\u001b[0m\u001b[0;34m\u001b[0m\u001b[0m\n\u001b[0m",
      "\u001b[0;31mAttributeError\u001b[0m: 'DataFrame' object has no attribute 'find'"
     ]
    }
   ],
   "source": []
  },
  {
   "cell_type": "code",
   "execution_count": 60,
   "id": "907be0a3-4eae-44a2-a0cc-174e971623af",
   "metadata": {},
   "outputs": [],
   "source": [
    "df['length'] = df['end_time'] - df['start_time']"
   ]
  },
  {
   "cell_type": "code",
   "execution_count": 50,
   "id": "573b537c-0ab0-484e-9f31-fa81dc00a10f",
   "metadata": {},
   "outputs": [],
   "source": [
    "df['start_time'] = pd.to_datetime(df['start_time'], format=\"%H:%M:%S\")"
   ]
  },
  {
   "cell_type": "code",
   "execution_count": 59,
   "id": "3e404129-fc15-4449-b660-7eab5683c323",
   "metadata": {},
   "outputs": [],
   "source": [
    "df['end_time'] = pd.to_datetime(df['end_time'], format=\"mixed\")"
   ]
  },
  {
   "cell_type": "code",
   "execution_count": 61,
   "id": "c19e8a06-4dff-4fb0-9753-5f79a7787b79",
   "metadata": {},
   "outputs": [
    {
     "data": {
      "text/plain": [
       "0   0 days 00:02:36\n",
       "1   0 days 00:08:27\n",
       "2   0 days 00:03:40\n",
       "3   0 days 00:02:35\n",
       "4   0 days 00:07:42\n",
       "Name: length, dtype: timedelta64[ns]"
      ]
     },
     "execution_count": 61,
     "metadata": {},
     "output_type": "execute_result"
    }
   ],
   "source": [
    "df['length'].head()"
   ]
  },
  {
   "cell_type": "code",
   "execution_count": 82,
   "id": "7ac86379-48fd-4700-8fc9-0cf02f90e6f1",
   "metadata": {},
   "outputs": [
    {
     "data": {
      "text/html": [
       "<div>\n",
       "<style scoped>\n",
       "    .dataframe tbody tr th:only-of-type {\n",
       "        vertical-align: middle;\n",
       "    }\n",
       "\n",
       "    .dataframe tbody tr th {\n",
       "        vertical-align: top;\n",
       "    }\n",
       "\n",
       "    .dataframe thead th {\n",
       "        text-align: right;\n",
       "    }\n",
       "</style>\n",
       "<table border=\"1\" class=\"dataframe\">\n",
       "  <thead>\n",
       "    <tr style=\"text-align: right;\">\n",
       "      <th></th>\n",
       "      <th>ride_id</th>\n",
       "      <th>rideable_type</th>\n",
       "      <th>start_station_name</th>\n",
       "      <th>start_station_id</th>\n",
       "      <th>end_station_name</th>\n",
       "      <th>end_station_id</th>\n",
       "      <th>start_lat</th>\n",
       "      <th>start_lng</th>\n",
       "      <th>end_lat</th>\n",
       "      <th>end_lng</th>\n",
       "      <th>member_casual</th>\n",
       "      <th>start_date</th>\n",
       "      <th>start_time</th>\n",
       "      <th>end_date</th>\n",
       "      <th>end_time</th>\n",
       "      <th>length</th>\n",
       "    </tr>\n",
       "  </thead>\n",
       "  <tbody>\n",
       "    <tr>\n",
       "      <th>434961</th>\n",
       "      <td>29B525FDE2F4BF03</td>\n",
       "      <td>electric_bike</td>\n",
       "      <td>New Hampshire Ave &amp; T St NW</td>\n",
       "      <td>31229.0</td>\n",
       "      <td>37th &amp; O St NW / Georgetown University</td>\n",
       "      <td>31236.0</td>\n",
       "      <td>38.915580</td>\n",
       "      <td>-77.038271</td>\n",
       "      <td>38.907837</td>\n",
       "      <td>-77.071660</td>\n",
       "      <td>casual</td>\n",
       "      <td>2024-03-10</td>\n",
       "      <td>2024-08-07 16:14:55.000</td>\n",
       "      <td>2024-03-10</td>\n",
       "      <td>2024-08-07 16:28:16.000</td>\n",
       "      <td>0 days 00:13:21</td>\n",
       "    </tr>\n",
       "    <tr>\n",
       "      <th>434961</th>\n",
       "      <td>6E537944EA83E99B</td>\n",
       "      <td>electric_bike</td>\n",
       "      <td>14th &amp; Girard St NW</td>\n",
       "      <td>31123.0</td>\n",
       "      <td>NaN</td>\n",
       "      <td>NaN</td>\n",
       "      <td>38.925375</td>\n",
       "      <td>-77.032392</td>\n",
       "      <td>38.920000</td>\n",
       "      <td>-77.050000</td>\n",
       "      <td>member</td>\n",
       "      <td>2024-04-24</td>\n",
       "      <td>2024-08-07 13:25:37.000</td>\n",
       "      <td>2024-04-24</td>\n",
       "      <td>2024-08-07 13:33:50.000</td>\n",
       "      <td>0 days 00:08:13</td>\n",
       "    </tr>\n",
       "    <tr>\n",
       "      <th>434961</th>\n",
       "      <td>6FF272817BC93116</td>\n",
       "      <td>electric_bike</td>\n",
       "      <td>3rd &amp; Elm St NW</td>\n",
       "      <td>31118.0</td>\n",
       "      <td>NaN</td>\n",
       "      <td>NaN</td>\n",
       "      <td>38.917639</td>\n",
       "      <td>-77.015940</td>\n",
       "      <td>38.910000</td>\n",
       "      <td>-77.040000</td>\n",
       "      <td>casual</td>\n",
       "      <td>2024-05-06</td>\n",
       "      <td>2024-08-07 11:17:16.000</td>\n",
       "      <td>2024-05-06</td>\n",
       "      <td>2024-08-07 11:33:45.000</td>\n",
       "      <td>0 days 00:16:29</td>\n",
       "    </tr>\n",
       "    <tr>\n",
       "      <th>434961</th>\n",
       "      <td>751649C534BF599F</td>\n",
       "      <td>classic_bike</td>\n",
       "      <td>Joyce St &amp; 16th St S</td>\n",
       "      <td>31091.0</td>\n",
       "      <td>Eads St &amp; 22nd St S</td>\n",
       "      <td>31013.0</td>\n",
       "      <td>38.859254</td>\n",
       "      <td>-77.063275</td>\n",
       "      <td>38.854381</td>\n",
       "      <td>-77.053412</td>\n",
       "      <td>member</td>\n",
       "      <td>2024-06-29</td>\n",
       "      <td>2024-08-07 00:49:59.945</td>\n",
       "      <td>2024-06-29</td>\n",
       "      <td>2024-08-07 22:02:13.387</td>\n",
       "      <td>0 days 21:12:13.442000</td>\n",
       "    </tr>\n",
       "  </tbody>\n",
       "</table>\n",
       "</div>"
      ],
      "text/plain": [
       "                 ride_id  rideable_type           start_station_name  \\\n",
       "434961  29B525FDE2F4BF03  electric_bike  New Hampshire Ave & T St NW   \n",
       "434961  6E537944EA83E99B  electric_bike          14th & Girard St NW   \n",
       "434961  6FF272817BC93116  electric_bike              3rd & Elm St NW   \n",
       "434961  751649C534BF599F   classic_bike         Joyce St & 16th St S   \n",
       "\n",
       "        start_station_id                        end_station_name  \\\n",
       "434961           31229.0  37th & O St NW / Georgetown University   \n",
       "434961           31123.0                                     NaN   \n",
       "434961           31118.0                                     NaN   \n",
       "434961           31091.0                     Eads St & 22nd St S   \n",
       "\n",
       "        end_station_id  start_lat  start_lng    end_lat    end_lng  \\\n",
       "434961         31236.0  38.915580 -77.038271  38.907837 -77.071660   \n",
       "434961             NaN  38.925375 -77.032392  38.920000 -77.050000   \n",
       "434961             NaN  38.917639 -77.015940  38.910000 -77.040000   \n",
       "434961         31013.0  38.859254 -77.063275  38.854381 -77.053412   \n",
       "\n",
       "       member_casual  start_date              start_time    end_date  \\\n",
       "434961        casual  2024-03-10 2024-08-07 16:14:55.000  2024-03-10   \n",
       "434961        member  2024-04-24 2024-08-07 13:25:37.000  2024-04-24   \n",
       "434961        casual  2024-05-06 2024-08-07 11:17:16.000  2024-05-06   \n",
       "434961        member  2024-06-29 2024-08-07 00:49:59.945  2024-06-29   \n",
       "\n",
       "                      end_time                 length  \n",
       "434961 2024-08-07 16:28:16.000        0 days 00:13:21  \n",
       "434961 2024-08-07 13:33:50.000        0 days 00:08:13  \n",
       "434961 2024-08-07 11:33:45.000        0 days 00:16:29  \n",
       "434961 2024-08-07 22:02:13.387 0 days 21:12:13.442000  "
      ]
     },
     "execution_count": 82,
     "metadata": {},
     "output_type": "execute_result"
    }
   ],
   "source": [
    "df.loc[[434961]]"
   ]
  },
  {
   "cell_type": "code",
   "execution_count": 76,
   "id": "92e3ecde-a9a6-41c9-903d-e4969717cc0d",
   "metadata": {},
   "outputs": [
    {
     "data": {
      "text/plain": [
       "434961   0 days 21:12:13.442000\n",
       "284982          0 days 21:03:28\n",
       "332135   0 days 20:50:50.779000\n",
       "28435           0 days 20:17:06\n",
       "427822   0 days 19:33:22.057000\n",
       "                  ...          \n",
       "35633    0 days 11:01:01.420000\n",
       "169585          0 days 10:59:33\n",
       "295352          0 days 10:59:30\n",
       "77379    0 days 10:57:18.414000\n",
       "252545          0 days 10:50:15\n",
       "Name: length, Length: 100, dtype: timedelta64[ns]"
      ]
     },
     "execution_count": 76,
     "metadata": {},
     "output_type": "execute_result"
    }
   ],
   "source": [
    "df['length'].sort_values(ascending=False).head(100)"
   ]
  },
  {
   "cell_type": "code",
   "execution_count": 68,
   "id": "dda2d950-4ffe-415f-aed6-66d14772d946",
   "metadata": {},
   "outputs": [
    {
     "data": {
      "text/plain": [
       "length\n",
       "0 days 00:04:58    2365\n",
       "0 days 00:05:07    2343\n",
       "0 days 00:04:45    2319\n",
       "0 days 00:05:05    2318\n",
       "0 days 00:05:14    2318\n",
       "0 days 00:05:13    2309\n",
       "0 days 00:05:01    2305\n",
       "0 days 00:05:16    2305\n",
       "0 days 00:04:59    2302\n",
       "0 days 00:05:23    2299\n",
       "0 days 00:05:48    2289\n",
       "0 days 00:04:52    2289\n",
       "0 days 00:05:37    2287\n",
       "0 days 00:04:38    2283\n",
       "0 days 00:04:56    2282\n",
       "0 days 00:04:27    2279\n",
       "0 days 00:04:48    2277\n",
       "0 days 00:04:31    2273\n",
       "0 days 00:04:30    2272\n",
       "0 days 00:05:15    2271\n",
       "0 days 00:05:10    2270\n",
       "0 days 00:05:40    2268\n",
       "0 days 00:06:04    2267\n",
       "0 days 00:06:15    2266\n",
       "0 days 00:05:11    2266\n",
       "0 days 00:06:05    2260\n",
       "0 days 00:06:28    2260\n",
       "0 days 00:05:00    2260\n",
       "0 days 00:05:02    2257\n",
       "0 days 00:04:54    2256\n",
       "0 days 00:05:53    2256\n",
       "0 days 00:05:59    2255\n",
       "0 days 00:06:01    2254\n",
       "0 days 00:05:21    2250\n",
       "0 days 00:04:49    2249\n",
       "0 days 00:05:45    2249\n",
       "0 days 00:04:23    2247\n",
       "0 days 00:04:32    2247\n",
       "0 days 00:05:31    2244\n",
       "0 days 00:04:44    2244\n",
       "0 days 00:05:25    2243\n",
       "0 days 00:05:44    2242\n",
       "0 days 00:04:28    2237\n",
       "0 days 00:06:00    2236\n",
       "0 days 00:05:43    2233\n",
       "0 days 00:05:38    2232\n",
       "0 days 00:04:37    2229\n",
       "0 days 00:05:57    2227\n",
       "0 days 00:05:41    2227\n",
       "0 days 00:05:22    2227\n",
       "Name: count, dtype: int64"
      ]
     },
     "execution_count": 68,
     "metadata": {},
     "output_type": "execute_result"
    }
   ],
   "source": [
    "df['length'].value_counts().head(50)"
   ]
  },
  {
   "cell_type": "code",
   "execution_count": 63,
   "id": "1b8eeae4-739a-47bc-b19d-4cdd01b2a2ed",
   "metadata": {},
   "outputs": [
    {
     "data": {
      "text/plain": [
       "Timedelta('0 days 00:10:04.647452142')"
      ]
     },
     "execution_count": 63,
     "metadata": {},
     "output_type": "execute_result"
    }
   ],
   "source": [
    "df['length'].mean()"
   ]
  },
  {
   "cell_type": "code",
   "execution_count": 36,
   "id": "dcf851ff-1ed7-449e-8d70-a231a41d8468",
   "metadata": {},
   "outputs": [
    {
     "data": {
      "text/plain": [
       "start_date\n",
       "2024-06-08    24193\n",
       "2024-03-16    22075\n",
       "2024-06-07    22005\n",
       "2024-04-20    21862\n",
       "2024-06-01    21525\n",
       "2024-06-15    21245\n",
       "2024-06-12    21128\n",
       "2024-06-29    20567\n",
       "2024-04-28    20461\n",
       "2024-06-28    20421\n",
       "2024-06-11    20405\n",
       "2024-06-13    20324\n",
       "2024-06-27    20298\n",
       "2024-06-09    20079\n",
       "2024-05-08    20057\n",
       "2024-05-31    20052\n",
       "2024-06-18    19977\n",
       "2024-06-19    19955\n",
       "2024-05-16    19909\n",
       "2024-06-25    19854\n",
       "2024-06-06    19840\n",
       "2024-06-04    19797\n",
       "2024-05-03    19787\n",
       "2024-05-01    19720\n",
       "2024-06-14    19665\n",
       "2024-05-02    19595\n",
       "2024-05-21    19442\n",
       "2024-06-20    19365\n",
       "2024-05-30    19232\n",
       "2024-06-21    19230\n",
       "2024-04-18    19145\n",
       "2024-06-22    19020\n",
       "2024-04-14    18983\n",
       "2024-03-30    18834\n",
       "2024-04-30    18751\n",
       "2024-03-14    18751\n",
       "2024-06-26    18740\n",
       "2024-05-22    18733\n",
       "2024-06-16    18533\n",
       "2024-04-24    18426\n",
       "2024-06-02    18418\n",
       "2024-05-07    18410\n",
       "2024-04-13    18385\n",
       "2024-05-24    18376\n",
       "2024-04-16    18335\n",
       "2024-04-10    18228\n",
       "2024-04-17    18122\n",
       "2024-05-17    18024\n",
       "2024-04-26    18000\n",
       "2024-05-19    17989\n",
       "Name: count, dtype: int64"
      ]
     },
     "execution_count": 36,
     "metadata": {},
     "output_type": "execute_result"
    }
   ],
   "source": [
    "top_Ten = df['start_date'].value_counts().head(50)\n",
    "top_Ten"
   ]
  },
  {
   "cell_type": "code",
   "execution_count": 37,
   "id": "9ea0b6f1-176a-45a8-bafe-25bddae9a27d",
   "metadata": {},
   "outputs": [
    {
     "data": {
      "text/plain": [
       "start_date\n",
       "2024-01-19    2578\n",
       "2024-01-16    2786\n",
       "2024-01-15    3037\n",
       "2024-01-06    3105\n",
       "2024-01-09    3309\n",
       "2024-01-20    3798\n",
       "2024-01-21    4171\n",
       "2024-03-09    4864\n",
       "2024-01-01    4902\n",
       "2024-01-17    5092\n",
       "Name: count, dtype: int64"
      ]
     },
     "execution_count": 37,
     "metadata": {},
     "output_type": "execute_result"
    }
   ],
   "source": [
    "bottom_Ten = df['start_date'].value_counts(ascending=True).head(10)\n",
    "bottom_Ten"
   ]
  },
  {
   "cell_type": "code",
   "execution_count": 38,
   "id": "029878f2-a4f9-4f33-b3ee-6d0ccb585df6",
   "metadata": {},
   "outputs": [
    {
     "ename": "AttributeError",
     "evalue": "Can only use .dt accessor with datetimelike values",
     "output_type": "error",
     "traceback": [
      "\u001b[0;31m---------------------------------------------------------------------------\u001b[0m",
      "\u001b[0;31mAttributeError\u001b[0m                            Traceback (most recent call last)",
      "Cell \u001b[0;32mIn[38], line 1\u001b[0m\n\u001b[0;32m----> 1\u001b[0m monthly_ridership \u001b[38;5;241m=\u001b[39m \u001b[43mdf\u001b[49m\u001b[43m[\u001b[49m\u001b[38;5;124;43m'\u001b[39;49m\u001b[38;5;124;43mstart_date\u001b[39;49m\u001b[38;5;124;43m'\u001b[39;49m\u001b[43m]\u001b[49m\u001b[38;5;241;43m.\u001b[39;49m\u001b[43mdt\u001b[49m\u001b[38;5;241m.\u001b[39mmonth\u001b[38;5;241m.\u001b[39mvalue_counts()\n",
      "File \u001b[0;32m~/.pyenv/versions/3.11.8/lib/python3.11/site-packages/pandas/core/generic.py:6299\u001b[0m, in \u001b[0;36mNDFrame.__getattr__\u001b[0;34m(self, name)\u001b[0m\n\u001b[1;32m   6292\u001b[0m \u001b[38;5;28;01mif\u001b[39;00m (\n\u001b[1;32m   6293\u001b[0m     name \u001b[38;5;129;01mnot\u001b[39;00m \u001b[38;5;129;01min\u001b[39;00m \u001b[38;5;28mself\u001b[39m\u001b[38;5;241m.\u001b[39m_internal_names_set\n\u001b[1;32m   6294\u001b[0m     \u001b[38;5;129;01mand\u001b[39;00m name \u001b[38;5;129;01mnot\u001b[39;00m \u001b[38;5;129;01min\u001b[39;00m \u001b[38;5;28mself\u001b[39m\u001b[38;5;241m.\u001b[39m_metadata\n\u001b[1;32m   6295\u001b[0m     \u001b[38;5;129;01mand\u001b[39;00m name \u001b[38;5;129;01mnot\u001b[39;00m \u001b[38;5;129;01min\u001b[39;00m \u001b[38;5;28mself\u001b[39m\u001b[38;5;241m.\u001b[39m_accessors\n\u001b[1;32m   6296\u001b[0m     \u001b[38;5;129;01mand\u001b[39;00m \u001b[38;5;28mself\u001b[39m\u001b[38;5;241m.\u001b[39m_info_axis\u001b[38;5;241m.\u001b[39m_can_hold_identifiers_and_holds_name(name)\n\u001b[1;32m   6297\u001b[0m ):\n\u001b[1;32m   6298\u001b[0m     \u001b[38;5;28;01mreturn\u001b[39;00m \u001b[38;5;28mself\u001b[39m[name]\n\u001b[0;32m-> 6299\u001b[0m \u001b[38;5;28;01mreturn\u001b[39;00m \u001b[38;5;28;43mobject\u001b[39;49m\u001b[38;5;241;43m.\u001b[39;49m\u001b[38;5;21;43m__getattribute__\u001b[39;49m\u001b[43m(\u001b[49m\u001b[38;5;28;43mself\u001b[39;49m\u001b[43m,\u001b[49m\u001b[43m \u001b[49m\u001b[43mname\u001b[49m\u001b[43m)\u001b[49m\n",
      "File \u001b[0;32m~/.pyenv/versions/3.11.8/lib/python3.11/site-packages/pandas/core/accessor.py:224\u001b[0m, in \u001b[0;36mCachedAccessor.__get__\u001b[0;34m(self, obj, cls)\u001b[0m\n\u001b[1;32m    221\u001b[0m \u001b[38;5;28;01mif\u001b[39;00m obj \u001b[38;5;129;01mis\u001b[39;00m \u001b[38;5;28;01mNone\u001b[39;00m:\n\u001b[1;32m    222\u001b[0m     \u001b[38;5;66;03m# we're accessing the attribute of the class, i.e., Dataset.geo\u001b[39;00m\n\u001b[1;32m    223\u001b[0m     \u001b[38;5;28;01mreturn\u001b[39;00m \u001b[38;5;28mself\u001b[39m\u001b[38;5;241m.\u001b[39m_accessor\n\u001b[0;32m--> 224\u001b[0m accessor_obj \u001b[38;5;241m=\u001b[39m \u001b[38;5;28;43mself\u001b[39;49m\u001b[38;5;241;43m.\u001b[39;49m\u001b[43m_accessor\u001b[49m\u001b[43m(\u001b[49m\u001b[43mobj\u001b[49m\u001b[43m)\u001b[49m\n\u001b[1;32m    225\u001b[0m \u001b[38;5;66;03m# Replace the property with the accessor object. Inspired by:\u001b[39;00m\n\u001b[1;32m    226\u001b[0m \u001b[38;5;66;03m# https://www.pydanny.com/cached-property.html\u001b[39;00m\n\u001b[1;32m    227\u001b[0m \u001b[38;5;66;03m# We need to use object.__setattr__ because we overwrite __setattr__ on\u001b[39;00m\n\u001b[1;32m    228\u001b[0m \u001b[38;5;66;03m# NDFrame\u001b[39;00m\n\u001b[1;32m    229\u001b[0m \u001b[38;5;28mobject\u001b[39m\u001b[38;5;241m.\u001b[39m\u001b[38;5;21m__setattr__\u001b[39m(obj, \u001b[38;5;28mself\u001b[39m\u001b[38;5;241m.\u001b[39m_name, accessor_obj)\n",
      "File \u001b[0;32m~/.pyenv/versions/3.11.8/lib/python3.11/site-packages/pandas/core/indexes/accessors.py:643\u001b[0m, in \u001b[0;36mCombinedDatetimelikeProperties.__new__\u001b[0;34m(cls, data)\u001b[0m\n\u001b[1;32m    640\u001b[0m \u001b[38;5;28;01melif\u001b[39;00m \u001b[38;5;28misinstance\u001b[39m(data\u001b[38;5;241m.\u001b[39mdtype, PeriodDtype):\n\u001b[1;32m    641\u001b[0m     \u001b[38;5;28;01mreturn\u001b[39;00m PeriodProperties(data, orig)\n\u001b[0;32m--> 643\u001b[0m \u001b[38;5;28;01mraise\u001b[39;00m \u001b[38;5;167;01mAttributeError\u001b[39;00m(\u001b[38;5;124m\"\u001b[39m\u001b[38;5;124mCan only use .dt accessor with datetimelike values\u001b[39m\u001b[38;5;124m\"\u001b[39m)\n",
      "\u001b[0;31mAttributeError\u001b[0m: Can only use .dt accessor with datetimelike values"
     ]
    }
   ],
   "source": [
    "monthly_ridership = df['start_date'].dt.month.value_counts()"
   ]
  },
  {
   "cell_type": "code",
   "execution_count": null,
   "id": "4c5b15fd-318d-4120-bdd9-5e44b9ae8e82",
   "metadata": {},
   "outputs": [],
   "source": [
    "monthly_ridership.plot(kind='barh')"
   ]
  },
  {
   "cell_type": "code",
   "execution_count": null,
   "id": "e86dea96-f0c7-4a0b-b8ca-340f679a1f52",
   "metadata": {},
   "outputs": [],
   "source": [
    "monthly_ridership.to_csv('monthly_ridership.csv')"
   ]
  },
  {
   "cell_type": "code",
   "execution_count": null,
   "id": "b06290ca-3174-480d-9428-fc2d8b6d530b",
   "metadata": {},
   "outputs": [],
   "source": [
    "df['start_date'] = pd.to_datetime(df['start_date'])"
   ]
  },
  {
   "cell_type": "code",
   "execution_count": null,
   "id": "49c821fb-db8d-4887-aa83-6e4c2d31d13b",
   "metadata": {},
   "outputs": [],
   "source": [
    "june_eight = df[df['start_date'] == '2024-6-8']"
   ]
  },
  {
   "cell_type": "code",
   "execution_count": null,
   "id": "7d27044f-3aa6-4fd6-9bfe-7ac9dd8aa8be",
   "metadata": {},
   "outputs": [],
   "source": [
    "june_eight['start_station_name'].value_counts()"
   ]
  },
  {
   "cell_type": "code",
   "execution_count": null,
   "id": "d2982a18-3b3d-4075-841f-9c716ceb01d5",
   "metadata": {},
   "outputs": [],
   "source": [
    "june_eight.to_csv('june_eight.csv')"
   ]
  },
  {
   "cell_type": "code",
   "execution_count": null,
   "id": "67d6c6fb-7171-485c-af01-c86641e0814a",
   "metadata": {},
   "outputs": [],
   "source": [
    "df.to_csv('bs_data_All.csv')"
   ]
  },
  {
   "cell_type": "code",
   "execution_count": null,
   "id": "534a63e1-4e6a-455a-9930-bd3efe65c5e4",
   "metadata": {},
   "outputs": [],
   "source": [
    "june_eight['end_station_name'].value_counts()"
   ]
  },
  {
   "cell_type": "code",
   "execution_count": null,
   "id": "b1da6482-05de-4e16-815c-0424e0eeb82d",
   "metadata": {},
   "outputs": [],
   "source": [
    "station_popularity = df['start_station_name'].value_counts()"
   ]
  },
  {
   "cell_type": "code",
   "execution_count": null,
   "id": "8e4e6aa5-21c6-4c8e-a599-b17211e68cca",
   "metadata": {},
   "outputs": [],
   "source": [
    "station_popularity.to_csv('station_popularity.csv')"
   ]
  },
  {
   "cell_type": "code",
   "execution_count": null,
   "id": "7779a072-ffe7-41dc-9a04-9bf9710db568",
   "metadata": {},
   "outputs": [],
   "source": [
    "df['start_date'].count.plot(kind='barh',y='start_date')\n"
   ]
  },
  {
   "cell_type": "code",
   "execution_count": 40,
   "id": "70232e0d-ebef-443e-b3af-bcc8707f0cc3",
   "metadata": {},
   "outputs": [
    {
     "data": {
      "text/plain": [
       "start_station_name\n",
       "Columbus Circle / Union Station         26418\n",
       "New Hampshire Ave & T St NW             22993\n",
       "15th & P St NW                          19351\n",
       "14th & V St NW                          18257\n",
       "1st & M St NE                           17616\n",
       "                                        ...  \n",
       "Links Dr & Wedge Dr                         2\n",
       "Minnesota Ave & D St SE                     1\n",
       "Roland Clarke Pl & Sunrise Valley Dr        1\n",
       "Tysons West Transit Center                  1\n",
       "Ring Rd & North Shore Dr                    1\n",
       "Name: count, Length: 799, dtype: int64"
      ]
     },
     "execution_count": 40,
     "metadata": {},
     "output_type": "execute_result"
    }
   ],
   "source": [
    "df['start_station_name'].value_counts()"
   ]
  },
  {
   "cell_type": "code",
   "execution_count": 39,
   "id": "9f3db6a1-7828-4ba2-90ed-5da6454d5529",
   "metadata": {},
   "outputs": [
    {
     "data": {
      "text/plain": [
       "end_station_name\n",
       "Columbus Circle / Union Station    26380\n",
       "New Hampshire Ave & T St NW        22532\n",
       "15th & P St NW                     19366\n",
       "1st & M St NE                      17671\n",
       "14th & V St NW                     17640\n",
       "                                   ...  \n",
       "Metro Park Dr & Walker Ln              3\n",
       "tech trailer V-1                       2\n",
       "Links Dr & Wedge Dr                    2\n",
       "Ring Rd & North Shore Dr               1\n",
       "Minnesota Ave & D St SE                1\n",
       "Name: count, Length: 799, dtype: int64"
      ]
     },
     "execution_count": 39,
     "metadata": {},
     "output_type": "execute_result"
    }
   ],
   "source": [
    "df['end_station_name'].value_counts()"
   ]
  },
  {
   "cell_type": "code",
   "execution_count": 43,
   "id": "ed2402ee-9e16-4e2e-a406-afe03562ccc9",
   "metadata": {},
   "outputs": [],
   "source": [
    "jan = pd.read_csv('2024jan.csv')\n",
    "feb = pd.read_csv('2024feb.csv')\n",
    "march = pd.read_csv('2024march.csv')\n",
    "april = pd.read_csv('2024april.csv')\n",
    "may = pd.read_csv('2024may.csv')\n",
    "june = pd.read_csv('2024june.csv')"
   ]
  },
  {
   "cell_type": "code",
   "execution_count": null,
   "id": "0c2a7a40-4329-45d4-b84e-273cb3c7886e",
   "metadata": {},
   "outputs": [],
   "source": [
    "jan.shape"
   ]
  },
  {
   "cell_type": "code",
   "execution_count": null,
   "id": "254597f5-f539-454c-a8d1-ee7a9e475ba8",
   "metadata": {},
   "outputs": [],
   "source": [
    "feb['start_station_name'].value_counts()"
   ]
  },
  {
   "cell_type": "code",
   "execution_count": null,
   "id": "8c6f1f53-0379-4b45-8a4d-8aab271102a3",
   "metadata": {},
   "outputs": [],
   "source": [
    "jan['start_station_name'].value_counts()"
   ]
  },
  {
   "cell_type": "code",
   "execution_count": null,
   "id": "d321423a-6b7c-46dc-a941-d54c728d4471",
   "metadata": {},
   "outputs": [],
   "source": [
    "march['start_station_name'].value_counts()"
   ]
  },
  {
   "cell_type": "code",
   "execution_count": null,
   "id": "7ddc74d5-7e45-4c9e-a377-6e63c2c3b159",
   "metadata": {},
   "outputs": [],
   "source": [
    "april['start_station_name'].value_counts()"
   ]
  },
  {
   "cell_type": "code",
   "execution_count": null,
   "id": "c2adae26-b791-4e3d-b90a-8f974eeed8cb",
   "metadata": {},
   "outputs": [],
   "source": [
    "may['start_station_name'].value_counts()"
   ]
  },
  {
   "cell_type": "code",
   "execution_count": null,
   "id": "4d877988-5a22-4ea8-a6ca-c123514aed16",
   "metadata": {},
   "outputs": [],
   "source": [
    "june['start_station_name'].value_counts()"
   ]
  },
  {
   "cell_type": "code",
   "execution_count": null,
   "id": "377cc6fd-20b5-480e-b946-7527bf189b92",
   "metadata": {},
   "outputs": [],
   "source": [
    "crashes = pd.read_csv('Crashes_in_DC.csv')"
   ]
  },
  {
   "cell_type": "code",
   "execution_count": null,
   "id": "5c83a126-8fbf-4bcd-9b50-69c4486f6afc",
   "metadata": {},
   "outputs": [],
   "source": [
    "crashes.head()"
   ]
  },
  {
   "cell_type": "code",
   "execution_count": null,
   "id": "cdc88c7d-2558-4b40-9657-465548379b80",
   "metadata": {},
   "outputs": [],
   "source": [
    "crashes[crashes['REPORTDATE'].str.contains(\"2024\")]"
   ]
  },
  {
   "cell_type": "code",
   "execution_count": 46,
   "id": "ace37643-f8df-40c5-a532-a224e0daf683",
   "metadata": {},
   "outputs": [],
   "source": [
    "e_split = df['rideable_type'].value_counts()"
   ]
  },
  {
   "cell_type": "code",
   "execution_count": 47,
   "id": "bdf281d8-2cc0-489f-89c6-4e91ec27bc90",
   "metadata": {},
   "outputs": [],
   "source": [
    "e_split.to_csv('e_split.csv')"
   ]
  },
  {
   "cell_type": "code",
   "execution_count": 44,
   "id": "043f38da-8242-4858-8ed4-07277037a1f9",
   "metadata": {},
   "outputs": [
    {
     "data": {
      "text/plain": [
       "rideable_type\n",
       "electric_bike    122165\n",
       "classic_bike     116669\n",
       "Name: count, dtype: int64"
      ]
     },
     "execution_count": 44,
     "metadata": {},
     "output_type": "execute_result"
    }
   ],
   "source": [
    "jan['rideable_type'].value_counts()"
   ]
  },
  {
   "cell_type": "code",
   "execution_count": 45,
   "id": "2be7eefb-ba68-43b2-bc05-71cbcdbacb5a",
   "metadata": {},
   "outputs": [
    {
     "data": {
      "text/plain": [
       "rideable_type\n",
       "classic_bike     297499\n",
       "electric_bike    286903\n",
       "Name: count, dtype: int64"
      ]
     },
     "execution_count": 45,
     "metadata": {},
     "output_type": "execute_result"
    }
   ],
   "source": [
    "june['rideable_type'].value_counts()"
   ]
  },
  {
   "cell_type": "code",
   "execution_count": null,
   "id": "140c552e-f81d-4f44-b1e3-740c477df51b",
   "metadata": {},
   "outputs": [],
   "source": []
  }
 ],
 "metadata": {
  "kernelspec": {
   "display_name": "Python 3 (ipykernel)",
   "language": "python",
   "name": "python3"
  },
  "language_info": {
   "codemirror_mode": {
    "name": "ipython",
    "version": 3
   },
   "file_extension": ".py",
   "mimetype": "text/x-python",
   "name": "python",
   "nbconvert_exporter": "python",
   "pygments_lexer": "ipython3",
   "version": "3.11.8"
  }
 },
 "nbformat": 4,
 "nbformat_minor": 5
}
